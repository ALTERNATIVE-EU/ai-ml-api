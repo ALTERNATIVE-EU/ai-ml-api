{
 "cells": [
  {
   "cell_type": "code",
   "execution_count": 5,
   "id": "fcbb0523",
   "metadata": {},
   "outputs": [],
   "source": [
    "import tensorflow as tf\n",
    "import pandas as pd\n",
    "import numpy as np\n",
    "import os\n",
    "import pickle\n",
    "from sklearn.metrics import  precision_recall_fscore_support, balanced_accuracy_score, matthews_corrcoef\n",
    "# from modelValidation import calculate_results\n",
    "# \"C:\\Users\\edoar\\Desktop\\Modeling2.0\\BestModels_AI_10_ottobre\\DataPrefetch\"\n",
    "\n",
    "# FOLDER_NAME = \"BestModels_AI_90_10\"\n",
    "path = os.getcwd()\n",
    "# path = os.path.join(path, FOLDER_NAME)\n",
    "MODEL_FOLDER = os.path.join(path, 'Models')"
   ]
  },
  {
   "cell_type": "code",
   "execution_count": 6,
   "id": "e10c3935",
   "metadata": {},
   "outputs": [],
   "source": [
    "def calculate_results(y_true, y_pred):\n",
    "    \"\"\"\n",
    "    Calculates model accuracy, precision, recall and f1 score of a binary classification model.\n",
    "    Args:\n",
    "      y_true: true labels in the form of a 1D array\n",
    "      y_pred: predicted labels in the form of a 1D array\n",
    "    Returns a dictionary of accuracy, precision, recall, f1-score.\n",
    "    \"\"\"\n",
    "    # Calculate model accuracy\n",
    "    # model_accuracy = accuracy_score(y_true, y_pred)\n",
    "    model_balance_accuracy = balanced_accuracy_score(y_true, y_pred)\n",
    "    # model_recall = recall_score(y_true, y_pred, pos_label=1)\n",
    "    specificity = fn_specificty(y_true, y_pred)\n",
    "    mcc = matthews_corrcoef(y_true, y_pred)\n",
    "    # sensitivity = fn_sensitivity(y_true, y_pred)\n",
    "    # f1_score = fn_F1score(y_true, y_pred)\n",
    "    # Calculate model precision, recall and f1 score using \"weighted average\n",
    "    model_precision, model_recall, model_f1, _ = precision_recall_fscore_support(y_true, y_pred, pos_label=1, average=\"binary\") # \"weighted\"\n",
    "    model_results = {\"Balance Accuracy\": model_balance_accuracy,\n",
    "                   \"Precision\": model_precision,\n",
    "                   \"Sensitivity\": model_recall,\n",
    "                   \"Specificity\": specificity,\n",
    "                   \"MCC\": mcc,\n",
    "                   \"f1\": model_f1}\n",
    "    return model_results"
   ]
  },
  {
   "cell_type": "markdown",
   "id": "05673b03",
   "metadata": {},
   "source": [
    "## Import model"
   ]
  },
  {
   "cell_type": "code",
   "execution_count": 18,
   "id": "2b994edd",
   "metadata": {},
   "outputs": [],
   "source": [
    "path = os.path.join(os.getcwd(), \"charsEmbeddingAugemted_90_10\")\n",
    "path_model = os.path.join(path, \"Model_charsEmbeddingAugemted\")\n",
    "path_test_set = os.path.join(path, \"test_charsEmbeddingAugemted_dataset\")"
   ]
  },
  {
   "cell_type": "code",
   "execution_count": 20,
   "id": "8959d027",
   "metadata": {},
   "outputs": [],
   "source": [
    "test_set = tf.data.Dataset.load(path_test_set)\n",
    "new_model = tf.keras.models.load_model(path_model)"
   ]
  },
  {
   "cell_type": "code",
   "execution_count": 42,
   "id": "5cf1e1eb",
   "metadata": {},
   "outputs": [
    {
     "data": {
      "text/plain": [
       "['.ipynb_checkpoints',\n",
       " 'charsEmbeddingAugemted_90_10',\n",
       " 'DataAnalysis_on_models_performance.ipynb',\n",
       " 'Models']"
      ]
     },
     "execution_count": 42,
     "metadata": {},
     "output_type": "execute_result"
    }
   ],
   "source": [
    "os.listdir(os.getcwd())"
   ]
  },
  {
   "cell_type": "code",
   "execution_count": 27,
   "id": "b777ceac",
   "metadata": {},
   "outputs": [
    {
     "data": {
      "text/plain": [
       "<tf.Tensor: shape=(32,), dtype=string, numpy=\n",
       "array([b'C C C C n 1 c c [ n + ] ( C ) c 1',\n",
       "       b'C C ( C C c 1 c c c c c 1 ) N C C ( O ) c 1 c c c ( O ) c ( C ( N ) = O ) c 1',\n",
       "       b'C C C ( C c 1 c ( I ) c c ( I ) c ( N ) c 1 I ) C ( = O ) O',\n",
       "       b'C c 1 c c ( - c 2 c c c ( N ) c ( C ) c 2 ) c c c 1 N',\n",
       "       b'N S ( = O ) ( = O ) c 1 c c c c c 1 C l',\n",
       "       b'C C C C C ( C C ) C O C ( = O ) c 1 c c c c c 1 C ( = O ) O',\n",
       "       b'C C N ( C C C # N ) c 1 c c c c c 1',\n",
       "       b'C C C O c 1 n n ( C ( = O ) N S ( = O ) ( = O ) c 2 c c c c c 2 C ( = O ) O C ) c ( = O ) n 1 C',\n",
       "       b'C C 1 2 C C C 3 C ( C C C 4 C C ( = O ) C C C 4 3 C ) C 1 C C C 2 O',\n",
       "       b'C C C C C ( C C ) C O C ( = O ) C O c 1 c c c ( C l ) c c 1 C',\n",
       "       b'C C C C C c 1 c c c ( N ) c c 1',\n",
       "       b'C = C C ( = O ) N 1 C C O C C 1',\n",
       "       b'C C ( O c 1 c c c ( C N C ( = O ) c 2 c c c n c 2 O c 2 c c c 3 c ( c 2 ) O C O 3 ) c ( F ) c 1 ) C ( = O ) O',\n",
       "       b'C c 1 c c c ( C l ) c c 1 N',\n",
       "       b'N c 1 c ( B r ) c c ( [ N + ] ( = O ) [ O - ] ) c c 1 [ N + ] ( = O ) [ O - ]',\n",
       "       b'C C 1 ( C ) N C ( = O ) N C 1 = O',\n",
       "       b'C 1 C N ( C C O C C N 2 C C O C C 2 ) C C O 1',\n",
       "       b'C O C 1 ( N C ( = O ) C S C ( F ) F ) C ( = O ) N 2 C ( C ( = O ) O ) = C ( C S c 3 n n n n 3 C C O ) C O C 2 1',\n",
       "       b'N = c 1 [ n H ] c ( = N ) c 2 n c ( - c 3 c c c c c 3 ) c ( = N ) [ n H ] c 2 [ n H ] 1',\n",
       "       b'O = C ( O ) c 1 c c c c ( O c 2 c c c c c 2 ) c 1',\n",
       "       b'C C C C C C C O',\n",
       "       b'C C O c 1 c c c 2 [ n H ] c ( = N ) s c 2 c 1',\n",
       "       b'C C c 1 c c c c ( C C ) c 1 N C ( = O ) C ( = O ) O',\n",
       "       b'C c 1 n c ( [ N + ] ( = O ) [ O - ] ) c n 1 - c 1 c c c ( [ N + ] ( = O ) [ O - ] ) c c 1',\n",
       "       b'c 1 c c c 2 n c c n c 2 c 1',\n",
       "       b'C C N ( C C ) S ( = O ) ( = O ) c 1 c c c ( C ( = O ) O ) c c 1',\n",
       "       b'C C N ( C C O ) C C C C ( C ) N = c 1 c c [ n H ] c 2 c c ( C l ) c c c 1 2',\n",
       "       b'C C 1 ( C ) O C 2 C C 3 C 4 C C = C 5 C C ( = O ) C = C C 5 ( C ) C 4 C ( O ) C C 3 ( C ) C 2 ( C ( = O ) C O ) O 1',\n",
       "       b'O = C ( O ) C 1 C S C N 1 C ( O ) c 1 c c c ( O ) [ n H ] 1',\n",
       "       b'C C ( C ) C c 1 c c c ( C ( C ) C ( = O ) N S ( C ) ( = O ) = O ) c c 1',\n",
       "       b'C C C C C C C C O c 1 c c c c c 1 C ( = O ) N c 1 c c c ( C ( = O ) O C C [ N + ] ( C ) ( C C ) C C ) c c 1',\n",
       "       b'N = c 1 n c ( C l ) c c ( C l ) [ n H ] 1'], dtype=object)>"
      ]
     },
     "execution_count": 27,
     "metadata": {},
     "output_type": "execute_result"
    }
   ],
   "source": [
    "next(iter(test_set))[0]"
   ]
  },
  {
   "cell_type": "code",
   "execution_count": 17,
   "id": "aaa5cf33",
   "metadata": {},
   "outputs": [
    {
     "name": "stdout",
     "output_type": "stream",
     "text": [
      "Model: \"charsEmbeddingAugemted\"\n",
      "_________________________________________________________________\n",
      " Layer (type)                Output Shape              Param #   \n",
      "=================================================================\n",
      " inputs_smiles_as_char (Inpu  [(None, 1)]              0         \n",
      " tLayer)                                                         \n",
      "                                                                 \n",
      " char_vectorizer (TextVector  (None, 117)              0         \n",
      " ization)                                                        \n",
      "                                                                 \n",
      " char_embed (Embedding)      (None, 117, 264)          7392      \n",
      "                                                                 \n",
      " conv1d_2 (Conv1D)           (None, 117, 128)          169088    \n",
      "                                                                 \n",
      " conv1d_3 (Conv1D)           (None, 117, 64)           41024     \n",
      "                                                                 \n",
      " bidirectional_2 (Bidirectio  (None, 117, 128)         66048     \n",
      " nal)                                                            \n",
      "                                                                 \n",
      " bidirectional_3 (Bidirectio  (None, 117, 64)          31104     \n",
      " nal)                                                            \n",
      "                                                                 \n",
      " global_max_pooling1d_1 (Glo  (None, 64)               0         \n",
      " balMaxPooling1D)                                                \n",
      "                                                                 \n",
      " dense_4 (Dense)             (None, 64)                4160      \n",
      "                                                                 \n",
      " dropout_2 (Dropout)         (None, 64)                0         \n",
      "                                                                 \n",
      " dense_5 (Dense)             (None, 32)                2080      \n",
      "                                                                 \n",
      " dropout_3 (Dropout)         (None, 32)                0         \n",
      "                                                                 \n",
      " dense_6 (Dense)             (None, 16)                528       \n",
      "                                                                 \n",
      " dense_7 (Dense)             (None, 1)                 17        \n",
      "                                                                 \n",
      "=================================================================\n",
      "Total params: 321,441\n",
      "Trainable params: 321,441\n",
      "Non-trainable params: 0\n",
      "_________________________________________________________________\n"
     ]
    }
   ],
   "source": [
    "new_model.summary()"
   ]
  },
  {
   "cell_type": "code",
   "execution_count": 34,
   "id": "3473c9df",
   "metadata": {},
   "outputs": [
    {
     "data": {
      "text/plain": [
       "<tf.Tensor: shape=(1,), dtype=string, numpy=array([b'c c c c c c O'], dtype=object)>"
      ]
     },
     "execution_count": 34,
     "metadata": {},
     "output_type": "execute_result"
    }
   ],
   "source": [
    "def prepare_smiles_NLP(text): \n",
    "    smi = \" \".join(list(text))\n",
    "    return tf.expand_dims(tf.constant(smi, dtype=tf.string), axis=0)"
   ]
  },
  {
   "cell_type": "code",
   "execution_count": 35,
   "id": "01bdb79e",
   "metadata": {},
   "outputs": [
    {
     "name": "stdout",
     "output_type": "stream",
     "text": [
      "1/1 [==============================] - 3s 3s/step\n"
     ]
    },
    {
     "data": {
      "text/plain": [
       "array([[0.19017208]], dtype=float32)"
      ]
     },
     "execution_count": 35,
     "metadata": {},
     "output_type": "execute_result"
    }
   ],
   "source": [
    "new_model.predict(smiles)"
   ]
  },
  {
   "cell_type": "code",
   "execution_count": 41,
   "id": "b10a2d9e",
   "metadata": {},
   "outputs": [
    {
     "name": "stdout",
     "output_type": "stream",
     "text": [
      "1/1 [==============================] - 0s 30ms/step\n"
     ]
    },
    {
     "data": {
      "text/plain": [
       "0"
      ]
     },
     "execution_count": 41,
     "metadata": {},
     "output_type": "execute_result"
    }
   ],
   "source": [
    "pred = (new_model.predict(smiles).squeeze() > 0.5).astype(int)\n",
    "pred"
   ]
  },
  {
   "cell_type": "markdown",
   "id": "37429b0c",
   "metadata": {},
   "source": [
    "### Import Multimodal"
   ]
  },
  {
   "cell_type": "code",
   "execution_count": 66,
   "id": "4c5af8c8",
   "metadata": {},
   "outputs": [],
   "source": [
    "path = os.path.join(os.getcwd(), \"MultimodalModels_all\")\n",
    "path_model = os.path.join(path, \"Model_multimodal_all\")\n",
    "path_test_set = os.path.join(path, \"test_MultimodalModels_all_dataset\")"
   ]
  },
  {
   "cell_type": "code",
   "execution_count": 67,
   "id": "a4dde8ef",
   "metadata": {},
   "outputs": [],
   "source": [
    "test_set = tf.data.Dataset.load(path_test_set)\n",
    "multimodal = tf.keras.models.load_model(path_model)"
   ]
  },
  {
   "cell_type": "code",
   "execution_count": 68,
   "id": "9d9f85e5",
   "metadata": {},
   "outputs": [
    {
     "name": "stdout",
     "output_type": "stream",
     "text": [
      "Model: \"model_5\"\n",
      "__________________________________________________________________________________________________\n",
      " Layer (type)                   Output Shape         Param #     Connected to                     \n",
      "==================================================================================================\n",
      " inputs_smiles_as_char (InputLa  [(None, 1)]         0           []                               \n",
      " yer)                                                                                             \n",
      "                                                                                                  \n",
      " char_vectorizer (TextVectoriza  (None, 111)         0           ['inputs_smiles_as_char[0][0]']  \n",
      " tion)                                                                                            \n",
      "                                                                                                  \n",
      " char_embed (Embedding)         (None, 111, 264)     7392        ['char_vectorizer[0][0]']        \n",
      "                                                                                                  \n",
      " conv1d_4 (Conv1D)              (None, 111, 128)     169088      ['char_embed[0][0]']             \n",
      "                                                                                                  \n",
      " conv1d_5 (Conv1D)              (None, 111, 64)      41024       ['conv1d_4[0][0]']               \n",
      "                                                                                                  \n",
      " bidirectional_4 (Bidirectional  (None, 111, 128)    66048       ['conv1d_5[0][0]']               \n",
      " )                                                                                                \n",
      "                                                                                                  \n",
      " bidirectional_5 (Bidirectional  (None, 111, 64)     31104       ['bidirectional_4[0][0]']        \n",
      " )                                                                                                \n",
      "                                                                                                  \n",
      " global_max_pooling1d_2 (Global  (None, 64)          0           ['bidirectional_5[0][0]']        \n",
      " MaxPooling1D)                                                                                    \n",
      "                                                                                                  \n",
      " CFP_inputs (InputLayer)        [(None, 1024)]       0           []                               \n",
      "                                                                                                  \n",
      " MACCs_inputs (InputLayer)      [(None, 167)]        0           []                               \n",
      "                                                                                                  \n",
      " CDDD_inputs (InputLayer)       [(None, 512)]        0           []                               \n",
      "                                                                                                  \n",
      " MD_inputs (InputLayer)         [(None, 399)]        0           []                               \n",
      "                                                                                                  \n",
      " dense_32 (Dense)               (None, 64)           4160        ['global_max_pooling1d_2[0][0]'] \n",
      "                                                                                                  \n",
      " dense_35 (Dense)               (None, 128)          131200      ['CFP_inputs[0][0]']             \n",
      "                                                                                                  \n",
      " dense_38 (Dense)               (None, 128)          21504       ['MACCs_inputs[0][0]']           \n",
      "                                                                                                  \n",
      " dense_41 (Dense)               (None, 128)          65664       ['CDDD_inputs[0][0]']            \n",
      "                                                                                                  \n",
      " dense_44 (Dense)               (None, 128)          51200       ['MD_inputs[0][0]']              \n",
      "                                                                                                  \n",
      " batch_normalization_12 (BatchN  (None, 64)          256         ['dense_32[0][0]']               \n",
      " ormalization)                                                                                    \n",
      "                                                                                                  \n",
      " batch_normalization_14 (BatchN  (None, 128)         512         ['dense_35[0][0]']               \n",
      " ormalization)                                                                                    \n",
      "                                                                                                  \n",
      " batch_normalization_16 (BatchN  (None, 128)         512         ['dense_38[0][0]']               \n",
      " ormalization)                                                                                    \n",
      "                                                                                                  \n",
      " batch_normalization_18 (BatchN  (None, 128)         512         ['dense_41[0][0]']               \n",
      " ormalization)                                                                                    \n",
      "                                                                                                  \n",
      " batch_normalization_20 (BatchN  (None, 128)         512         ['dense_44[0][0]']               \n",
      " ormalization)                                                                                    \n",
      "                                                                                                  \n",
      " dropout_21 (Dropout)           (None, 64)           0           ['batch_normalization_12[0][0]'] \n",
      "                                                                                                  \n",
      " dropout_23 (Dropout)           (None, 128)          0           ['batch_normalization_14[0][0]'] \n",
      "                                                                                                  \n",
      " dropout_25 (Dropout)           (None, 128)          0           ['batch_normalization_16[0][0]'] \n",
      "                                                                                                  \n",
      " dropout_27 (Dropout)           (None, 128)          0           ['batch_normalization_18[0][0]'] \n",
      "                                                                                                  \n",
      " dropout_29 (Dropout)           (None, 128)          0           ['batch_normalization_20[0][0]'] \n",
      "                                                                                                  \n",
      " dense_33 (Dense)               (None, 32)           2080        ['dropout_21[0][0]']             \n",
      "                                                                                                  \n",
      " dense_36 (Dense)               (None, 64)           8256        ['dropout_23[0][0]']             \n",
      "                                                                                                  \n",
      " dense_39 (Dense)               (None, 64)           8256        ['dropout_25[0][0]']             \n",
      "                                                                                                  \n",
      " dense_42 (Dense)               (None, 64)           8256        ['dropout_27[0][0]']             \n",
      "                                                                                                  \n",
      " dense_45 (Dense)               (None, 64)           8256        ['dropout_29[0][0]']             \n",
      "                                                                                                  \n",
      " batch_normalization_13 (BatchN  (None, 32)          128         ['dense_33[0][0]']               \n",
      " ormalization)                                                                                    \n",
      "                                                                                                  \n",
      " batch_normalization_15 (BatchN  (None, 64)          256         ['dense_36[0][0]']               \n",
      " ormalization)                                                                                    \n",
      "                                                                                                  \n"
     ]
    },
    {
     "name": "stdout",
     "output_type": "stream",
     "text": [
      " batch_normalization_17 (BatchN  (None, 64)          256         ['dense_39[0][0]']               \n",
      " ormalization)                                                                                    \n",
      "                                                                                                  \n",
      " batch_normalization_19 (BatchN  (None, 64)          256         ['dense_42[0][0]']               \n",
      " ormalization)                                                                                    \n",
      "                                                                                                  \n",
      " batch_normalization_21 (BatchN  (None, 64)          256         ['dense_45[0][0]']               \n",
      " ormalization)                                                                                    \n",
      "                                                                                                  \n",
      " dropout_22 (Dropout)           (None, 32)           0           ['batch_normalization_13[0][0]'] \n",
      "                                                                                                  \n",
      " dropout_24 (Dropout)           (None, 64)           0           ['batch_normalization_15[0][0]'] \n",
      "                                                                                                  \n",
      " dropout_26 (Dropout)           (None, 64)           0           ['batch_normalization_17[0][0]'] \n",
      "                                                                                                  \n",
      " dropout_28 (Dropout)           (None, 64)           0           ['batch_normalization_19[0][0]'] \n",
      "                                                                                                  \n",
      " dropout_30 (Dropout)           (None, 64)           0           ['batch_normalization_21[0][0]'] \n",
      "                                                                                                  \n",
      " dense_34 (Dense)               (None, 16)           528         ['dropout_22[0][0]']             \n",
      "                                                                                                  \n",
      " dense_37 (Dense)               (None, 64)           4160        ['dropout_24[0][0]']             \n",
      "                                                                                                  \n",
      " dense_40 (Dense)               (None, 64)           4160        ['dropout_26[0][0]']             \n",
      "                                                                                                  \n",
      " dense_43 (Dense)               (None, 64)           4160        ['dropout_28[0][0]']             \n",
      "                                                                                                  \n",
      " dense_46 (Dense)               (None, 64)           4160        ['dropout_30[0][0]']             \n",
      "                                                                                                  \n",
      " multimodal_inputs (Concatenate  (None, 272)         0           ['dense_34[0][0]',               \n",
      " )                                                                'dense_37[0][0]',               \n",
      "                                                                  'dense_40[0][0]',               \n",
      "                                                                  'dense_43[0][0]',               \n",
      "                                                                  'dense_46[0][0]']               \n",
      "                                                                                                  \n",
      " dense_48 (Dense)               (None, 32)           8736        ['multimodal_inputs[0][0]']      \n",
      "                                                                                                  \n",
      " batch_normalization_23 (BatchN  (None, 32)          128         ['dense_48[0][0]']               \n",
      " ormalization)                                                                                    \n",
      "                                                                                                  \n",
      " dropout_32 (Dropout)           (None, 32)           0           ['batch_normalization_23[0][0]'] \n",
      "                                                                                                  \n",
      " dense_49 (Dense)               (None, 16)           528         ['dropout_32[0][0]']             \n",
      "                                                                                                  \n",
      " dense_50 (Dense)               (None, 1)            17          ['dense_49[0][0]']               \n",
      "                                                                                                  \n",
      "==================================================================================================\n",
      "Total params: 653,521\n",
      "Trainable params: 651,729\n",
      "Non-trainable params: 1,792\n",
      "__________________________________________________________________________________________________\n"
     ]
    }
   ],
   "source": [
    "multimodal.summary()"
   ]
  },
  {
   "cell_type": "code",
   "execution_count": 52,
   "id": "0ca7cb82",
   "metadata": {},
   "outputs": [],
   "source": [
    "import deepchem as dc"
   ]
  },
  {
   "cell_type": "code",
   "execution_count": 62,
   "id": "8dbe7b34",
   "metadata": {},
   "outputs": [],
   "source": [
    "def fingerprint_cfp(smiles):\n",
    "    featurizer = dc.feat.CircularFingerprint(size=1024, radius=4)    \n",
    "    return [int(i) for i in featurizer.featurize(smiles).tolist()[0]]\n",
    "\n",
    "def create_MACCs_fingerprint_frame(smiles):\n",
    "    featurizer = dc.feat.MACCSKeysFingerprint()\n",
    "    return featurizer.featurize(smiles).tolist()[0] "
   ]
  },
  {
   "cell_type": "code",
   "execution_count": 71,
   "id": "5875536d",
   "metadata": {},
   "outputs": [
    {
     "data": {
      "text/plain": [
       "tuple"
      ]
     },
     "execution_count": 71,
     "metadata": {},
     "output_type": "execute_result"
    }
   ],
   "source": [
    "type(next(iter(test_set)))"
   ]
  },
  {
   "cell_type": "code",
   "execution_count": 72,
   "id": "afcb579c",
   "metadata": {},
   "outputs": [
    {
     "data": {
      "text/plain": [
       "((<tf.Tensor: shape=(32,), dtype=string, numpy=\n",
       "  array([b'C C C C n 1 c c [ n + ] ( C ) c 1',\n",
       "         b'C C ( C C c 1 c c c c c 1 ) N C C ( O ) c 1 c c c ( O ) c ( C ( N ) = O ) c 1',\n",
       "         b'C C C ( C c 1 c ( I ) c c ( I ) c ( N ) c 1 I ) C ( = O ) O',\n",
       "         b'C c 1 c c ( - c 2 c c c ( N ) c ( C ) c 2 ) c c c 1 N',\n",
       "         b'N S ( = O ) ( = O ) c 1 c c c c c 1 C l',\n",
       "         b'C C C C C ( C C ) C O C ( = O ) c 1 c c c c c 1 C ( = O ) O',\n",
       "         b'C C N ( C C C # N ) c 1 c c c c c 1',\n",
       "         b'C C C O c 1 n n ( C ( = O ) N S ( = O ) ( = O ) c 2 c c c c c 2 C ( = O ) O C ) c ( = O ) n 1 C',\n",
       "         b'C C 1 2 C C C 3 C ( C C C 4 C C ( = O ) C C C 4 3 C ) C 1 C C C 2 O',\n",
       "         b'C C C C C ( C C ) C O C ( = O ) C O c 1 c c c ( C l ) c c 1 C',\n",
       "         b'C C C C C c 1 c c c ( N ) c c 1',\n",
       "         b'C = C C ( = O ) N 1 C C O C C 1',\n",
       "         b'C C ( O c 1 c c c ( C N C ( = O ) c 2 c c c n c 2 O c 2 c c c 3 c ( c 2 ) O C O 3 ) c ( F ) c 1 ) C ( = O ) O',\n",
       "         b'C c 1 c c c ( C l ) c c 1 N',\n",
       "         b'N c 1 c ( B r ) c c ( [ N + ] ( = O ) [ O - ] ) c c 1 [ N + ] ( = O ) [ O - ]',\n",
       "         b'C C 1 ( C ) N C ( = O ) N C 1 = O',\n",
       "         b'C 1 C N ( C C O C C N 2 C C O C C 2 ) C C O 1',\n",
       "         b'C O C 1 ( N C ( = O ) C S C ( F ) F ) C ( = O ) N 2 C ( C ( = O ) O ) = C ( C S c 3 n n n n 3 C C O ) C O C 2 1',\n",
       "         b'N = c 1 [ n H ] c ( = N ) c 2 n c ( - c 3 c c c c c 3 ) c ( = N ) [ n H ] c 2 [ n H ] 1',\n",
       "         b'O = C ( O ) c 1 c c c c ( O c 2 c c c c c 2 ) c 1',\n",
       "         b'C C C C C C C O',\n",
       "         b'C C O c 1 c c c 2 [ n H ] c ( = N ) s c 2 c 1',\n",
       "         b'C C c 1 c c c c ( C C ) c 1 N C ( = O ) C ( = O ) O',\n",
       "         b'C c 1 n c ( [ N + ] ( = O ) [ O - ] ) c n 1 - c 1 c c c ( [ N + ] ( = O ) [ O - ] ) c c 1',\n",
       "         b'c 1 c c c 2 n c c n c 2 c 1',\n",
       "         b'C C N ( C C ) S ( = O ) ( = O ) c 1 c c c ( C ( = O ) O ) c c 1',\n",
       "         b'C C N ( C C O ) C C C C ( C ) N = c 1 c c [ n H ] c 2 c c ( C l ) c c c 1 2',\n",
       "         b'C C 1 ( C ) O C 2 C C 3 C 4 C C = C 5 C C ( = O ) C = C C 5 ( C ) C 4 C ( O ) C C 3 ( C ) C 2 ( C ( = O ) C O ) O 1',\n",
       "         b'O = C ( O ) C 1 C S C N 1 C ( O ) c 1 c c c ( O ) [ n H ] 1',\n",
       "         b'C C ( C ) C c 1 c c c ( C ( C ) C ( = O ) N S ( C ) ( = O ) = O ) c c 1',\n",
       "         b'C C C C C C C C O c 1 c c c c c 1 C ( = O ) N c 1 c c c ( C ( = O ) O C C [ N + ] ( C ) ( C C ) C C ) c c 1',\n",
       "         b'N = c 1 n c ( C l ) c c ( C l ) [ n H ] 1'], dtype=object)>,\n",
       "  <tf.Tensor: shape=(32, 1024), dtype=float64, numpy=\n",
       "  array([[0., 0., 0., ..., 0., 0., 0.],\n",
       "         [0., 1., 0., ..., 0., 0., 0.],\n",
       "         [0., 1., 0., ..., 0., 0., 0.],\n",
       "         ...,\n",
       "         [0., 1., 0., ..., 0., 0., 0.],\n",
       "         [0., 0., 0., ..., 0., 0., 0.],\n",
       "         [0., 0., 0., ..., 0., 0., 0.]])>,\n",
       "  <tf.Tensor: shape=(32, 167), dtype=int64, numpy=\n",
       "  array([[0, 0, 0, ..., 0, 1, 0],\n",
       "         [0, 0, 0, ..., 1, 1, 0],\n",
       "         [0, 0, 0, ..., 1, 1, 0],\n",
       "         ...,\n",
       "         [0, 0, 0, ..., 1, 1, 0],\n",
       "         [0, 0, 0, ..., 1, 1, 0],\n",
       "         [0, 0, 0, ..., 0, 1, 0]], dtype=int64)>,\n",
       "  <tf.Tensor: shape=(32, 512), dtype=float64, numpy=\n",
       "  array([[-0.48748741, -0.15593669,  0.41338077, ..., -0.53804755,\n",
       "           0.57764959,  0.80378407],\n",
       "         [-0.87275845,  0.48354024,  0.3573513 , ..., -0.80352324,\n",
       "           0.59276491, -0.56779337],\n",
       "         [-0.72388124,  0.05325026, -0.49365318, ...,  0.76418746,\n",
       "           0.55809301,  0.25650406],\n",
       "         ...,\n",
       "         [ 0.01981565, -0.35909617,  0.62469572, ..., -0.50568789,\n",
       "           0.6856696 , -0.2350329 ],\n",
       "         [ 0.67505842, -0.28752106, -0.31069741, ..., -0.59568036,\n",
       "           0.20813826,  0.43661252],\n",
       "         [-0.12495333,  0.28558519, -0.64772087, ..., -0.15800904,\n",
       "          -0.26977471,  0.26457912]])>,\n",
       "  <tf.Tensor: shape=(32, 399), dtype=float64, numpy=\n",
       "  array([[-0.38134215,  1.0579672 , -0.97149984, ..., -0.68528883,\n",
       "          -1.30609328,  1.32391859],\n",
       "         [-0.38134215,  1.0579672 ,  0.81210694, ..., -0.11586431,\n",
       "           1.07781877, -0.62620108],\n",
       "         [ 1.69553741, -0.46220411, -0.21149314, ...,  0.77527086,\n",
       "           0.19151011, -0.62620108],\n",
       "         ...,\n",
       "         [-0.38134215, -0.46220411, -0.05025108, ..., -0.15539608,\n",
       "           0.18931219, -0.62620108],\n",
       "         [-0.38134215,  1.0579672 ,  2.20839497, ...,  2.21483973,\n",
       "           0.22750094, -0.62620108],\n",
       "         [-0.38134215, -0.46220411, -1.20173782, ..., -0.6389253 ,\n",
       "          -0.10493349, -0.62620108]])>),\n",
       " <tf.Tensor: shape=(32,), dtype=int64, numpy=\n",
       " array([1, 0, 0, 0, 0, 0, 0, 1, 0, 0, 0, 0, 0, 0, 1, 0, 0, 0, 0, 0, 0, 0,\n",
       "        0, 0, 0, 0, 0, 0, 0, 0, 1, 0], dtype=int64)>)"
      ]
     },
     "execution_count": 72,
     "metadata": {},
     "output_type": "execute_result"
    }
   ],
   "source": [
    "next(iter(test_set))"
   ]
  },
  {
   "cell_type": "code",
   "execution_count": null,
   "id": "76f5d08d",
   "metadata": {},
   "outputs": [],
   "source": []
  }
 ],
 "metadata": {
  "kernelspec": {
   "display_name": "Python 3 (ipykernel)",
   "language": "python",
   "name": "python3"
  },
  "language_info": {
   "codemirror_mode": {
    "name": "ipython",
    "version": 3
   },
   "file_extension": ".py",
   "mimetype": "text/x-python",
   "name": "python",
   "nbconvert_exporter": "python",
   "pygments_lexer": "ipython3",
   "version": "3.9.16"
  }
 },
 "nbformat": 4,
 "nbformat_minor": 5
}
